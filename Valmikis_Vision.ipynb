{
  "nbformat": 4,
  "nbformat_minor": 0,
  "metadata": {
    "colab": {
      "provenance": [],
      "include_colab_link": true
    },
    "kernelspec": {
      "name": "python3",
      "display_name": "Python 3"
    },
    "language_info": {
      "name": "python"
    }
  },
  "cells": [
    {
      "cell_type": "markdown",
      "metadata": {
        "id": "view-in-github",
        "colab_type": "text"
      },
      "source": [
        "<a href=\"https://colab.research.google.com/github/tejareddytadi/Valmikis-vision/blob/main/Valmikis_Vision.ipynb\" target=\"_parent\"><img src=\"https://colab.research.google.com/assets/colab-badge.svg\" alt=\"Open In Colab\"/></a>"
      ]
    },
    {
      "cell_type": "code",
      "execution_count": null,
      "metadata": {
        "id": "qFoLNb_f3Xh7"
      },
      "outputs": [],
      "source": [
        "import numpy as np\n",
        "import pandas as pd\n",
        "import torch\n",
        "import matplotlib.pyplot as plt\n",
        "import torch.nn as nn\n",
        "from torch.utils.data import DataLoader\n",
        "import torchvision.transforms as transforms\n",
        "from torchvision.utils import make_grid\n",
        "from torchvision.datasets import ImageFolder\n",
        "import torchvision.models as models\n",
        "import torch.optim as optim\n",
        "import os"
      ]
    },
    {
      "cell_type": "code",
      "source": [
        "from google.colab import drive\n",
        "drive.mount('/content/drive')"
      ],
      "metadata": {
        "colab": {
          "base_uri": "https://localhost:8080/"
        },
        "id": "3sMBbNex4Ft7",
        "outputId": "a667c49c-ce02-4d24-f225-6c6df886451a"
      },
      "execution_count": null,
      "outputs": [
        {
          "output_type": "stream",
          "name": "stdout",
          "text": [
            "Mounted at /content/drive\n"
          ]
        }
      ]
    },
    {
      "cell_type": "code",
      "source": [
        "train_dir = '/content/drive/MyDrive/ramayana'"
      ],
      "metadata": {
        "id": "bhbP1j4q4U-J"
      },
      "execution_count": null,
      "outputs": []
    },
    {
      "cell_type": "code",
      "source": [
        "classes = os.listdir(train_dir)\n",
        "num_classes = len(classes)"
      ],
      "metadata": {
        "id": "2Z3_0OCq4kEj"
      },
      "execution_count": null,
      "outputs": []
    },
    {
      "cell_type": "code",
      "source": [
        "b = 32\n",
        "train = ImageFolder(train_dir, transform= transforms.Compose([transforms.ToTensor(),\n",
        "                                                              transforms.Resize(32),\n",
        "        transforms.CenterCrop(32),]))\n",
        "trainloader = torch.utils.data.DataLoader(train, batch_size=b, shuffle=True)"
      ],
      "metadata": {
        "id": "E1IKhDGp4nhq"
      },
      "execution_count": null,
      "outputs": []
    },
    {
      "cell_type": "code",
      "source": [
        "resnet = models.resnet18(pretrained = True)"
      ],
      "metadata": {
        "id": "mrEDceCI4vJW",
        "colab": {
          "base_uri": "https://localhost:8080/"
        },
        "outputId": "9d9021a4-7900-4ff3-b08c-f73db3e164a3"
      },
      "execution_count": null,
      "outputs": [
        {
          "output_type": "stream",
          "name": "stderr",
          "text": [
            "/usr/local/lib/python3.10/dist-packages/torchvision/models/_utils.py:208: UserWarning: The parameter 'pretrained' is deprecated since 0.13 and may be removed in the future, please use 'weights' instead.\n",
            "  warnings.warn(\n",
            "/usr/local/lib/python3.10/dist-packages/torchvision/models/_utils.py:223: UserWarning: Arguments other than a weight enum or `None` for 'weights' are deprecated since 0.13 and may be removed in the future. The current behavior is equivalent to passing `weights=ResNet18_Weights.IMAGENET1K_V1`. You can also use `weights=ResNet18_Weights.DEFAULT` to get the most up-to-date weights.\n",
            "  warnings.warn(msg)\n",
            "Downloading: \"https://download.pytorch.org/models/resnet18-f37072fd.pth\" to /root/.cache/torch/hub/checkpoints/resnet18-f37072fd.pth\n",
            "100%|██████████| 44.7M/44.7M [00:00<00:00, 248MB/s]\n"
          ]
        }
      ]
    },
    {
      "cell_type": "code",
      "source": [
        "loss_fn = nn.CrossEntropyLoss()\n",
        "opt = optim.Adam(resnet.parameters())"
      ],
      "metadata": {
        "id": "_yofMNRc4zuF"
      },
      "execution_count": null,
      "outputs": []
    },
    {
      "cell_type": "code",
      "source": [
        "def evaluation(dataloader):\n",
        "    total, correct = 0, 0\n",
        "    for data in dataloader:\n",
        "        inputs, labels = data\n",
        "        outputs = resnet(inputs)\n",
        "        _, pred = torch.max(outputs.data, 1)\n",
        "        total += labels.size(0)\n",
        "        correct += (pred == labels).sum().item()\n",
        "    return 100 * correct / total"
      ],
      "metadata": {
        "id": "p8NbdMq5412t"
      },
      "execution_count": null,
      "outputs": []
    },
    {
      "cell_type": "code",
      "source": [
        "in_features = resnet.fc.in_features\n",
        "resnet.fc = nn.Linear(in_features, num_classes)"
      ],
      "metadata": {
        "id": "l7GGugDl5CFz"
      },
      "execution_count": null,
      "outputs": []
    },
    {
      "cell_type": "code",
      "source": [
        "in_features = resnet.fc.in_features\n",
        "dropout_prob = 0.4\n",
        "resnet.fc = nn.Sequential(\n",
        "    nn.Linear(in_features, 512),\n",
        "    nn.ReLU(),\n",
        "    nn.Dropout(dropout_prob),\n",
        "    nn.Linear(512, num_classes)\n",
        ")"
      ],
      "metadata": {
        "id": "Iqp1teHNQ35_"
      },
      "execution_count": null,
      "outputs": []
    },
    {
      "cell_type": "code",
      "source": [
        "loss_epoch_arr = []\n",
        "max_epochs = 5\n",
        "\n",
        "\n",
        "min_loss = 1000\n",
        "\n",
        "n_iters = np.ceil(50000/b)\n",
        "\n",
        "for epoch in range(max_epochs):\n",
        "\n",
        "    for i, data in enumerate(trainloader, 0):\n",
        "\n",
        "        inputs, labels = data\n",
        "        #inputs, labels = inputs.to(device), labels.to(device)\n",
        "\n",
        "        opt.zero_grad()\n",
        "\n",
        "        outputs = resnet(inputs)\n",
        "        loss = loss_fn(outputs, labels)\n",
        "        loss.backward()\n",
        "        opt.step()\n",
        "\n",
        "    loss_epoch_arr.append(loss.item())\n",
        "\n",
        "    print('Epoch: %d/%d, Train acc: %0.2f' % (\n",
        "        epoch, max_epochs,\n",
        "         evaluation(trainloader)))\n",
        "\n",
        "\n",
        "plt.plot(loss_epoch_arr)\n",
        "plt.show()"
      ],
      "metadata": {
        "colab": {
          "base_uri": "https://localhost:8080/",
          "height": 571
        },
        "id": "MWTeuuuz5F3s",
        "outputId": "b5b4e987-f51a-4ede-d950-a6b0da9af212"
      },
      "execution_count": null,
      "outputs": [
        {
          "output_type": "stream",
          "name": "stderr",
          "text": [
            "/usr/local/lib/python3.10/dist-packages/torchvision/transforms/functional.py:1603: UserWarning: The default value of the antialias parameter of all the resizing transforms (Resize(), RandomResizedCrop(), etc.) will change from None to True in v0.17, in order to be consistent across the PIL and Tensor backends. To suppress this warning, directly pass antialias=True (recommended, future default), antialias=None (current default, which means False for Tensors and True for PIL), or antialias=False (only works on Tensors - PIL will still use antialiasing). This also applies if you are using the inference transforms from the models weights: update the call to weights.transforms(antialias=True).\n",
            "  warnings.warn(\n"
          ]
        },
        {
          "output_type": "stream",
          "name": "stdout",
          "text": [
            "Epoch: 0/5, Train acc: 56.95\n",
            "Epoch: 1/5, Train acc: 80.27\n",
            "Epoch: 2/5, Train acc: 90.58\n",
            "Epoch: 3/5, Train acc: 95.07\n",
            "Epoch: 4/5, Train acc: 93.72\n"
          ]
        },
        {
          "output_type": "display_data",
          "data": {
            "text/plain": [
              "<Figure size 640x480 with 1 Axes>"
            ],
            "image/png": "[encoded data removed]"
          },
          "metadata": {}
        }
      ]
    },
    {
      "cell_type": "code",
      "source": [
        "def information(name):\n",
        "  if(name == 'rama') :\n",
        "    print('Name of the Character = Rama \\n\\n  In the epic Ramayana, Lord Rama plays a pivotal role as the protagonist, embodying righteousness and fulfilling his divine purpose.\\nBorn as the prince of Ayodhya, Rama\\'s exile from his kingdom sets in motion a series of events.\\nWith unwavering loyalty, Rama embarks on a quest to rescue his beloved wife, Sita, who has been abducted by the demon king Ravana.\\nSupported by his loyal brother Lakshmana and the mighty Hanuman, Rama faces numerous challenges and tests of his character.\\nHe displays immense valor during the epic battle with Ravana, ultimately vanquishing the demon king and liberating Sita.\\nRama\\'s unwavering adherence to his duties and righteousness makes him a revered symbol of virtue and an inspiration for generations.\\nHis teachings on dharma, devotion, and the importance of upholding truth continue to guide and inspire people in their lives.\\nThe story of Lord Rama in the Ramayana serves as a timeless epic that imparts valuable life lessons and highlights the triumph of good over evil')\n",
        "  elif(name == 'sita'):\n",
        "    print('Name of the Character = Sita \\n\\n In the epic Ramayana, Sita, the wife of Lord Rama, plays a significant role as a symbol of purity, loyalty, and strength.\\nHer unwavering devotion to Rama is evident as she accompanies him into exile and faces hardships with grace.\\nSita\\'s abduction by Ravana sets in motion the epic quest of Rama to rescue her, showcasing her role as a catalyst for the story\\'s events.\\nThroughout her captivity, Sita demonstrates immense resilience and moral strength, never compromising her values or fidelity to Rama.\\nHer purity is tested, and she emerges unscathed, becoming an embodiment of virtue and righteousness.\\nUpon her rescue, Sita\\'s purity is reaffirmed through the Agni Pariksha , establishing her innocence and honor.\\nSita\\'s character teaches important lessons about loyalty, devotion, and the strength of a woman, leaving an indelible mark on the Ramayana and Hindu mythology.\\nHer story continues to inspire and empower women, emphasizing the significance of inner strength and unwavering faith.')\n",
        "  elif(name == 'hanuman'):\n",
        "    print('Name of the Character = Hanuman \\n\\n In the epic Ramayana, Hanuman, the revered devotee of Lord Rama, plays a pivotal role as a symbol of unwavering devotion and selflessness.\\nEndowed with extraordinary strength and intelligence, Hanuman becomes an invaluable ally and messenger for Rama.\\nHis determination and courage lead him to undertake daring feats, such as leaping across the ocean to find Sita.\\nHanuman\\'s humility and loyalty shine through his unwavering support, inspiring all with his noble qualities.\\nWith his profound wisdom and devotion, Hanuman becomes a source of guidance and inspiration for seekers of truth and righteousness.\\nHis steadfast devotion to Rama and his pivotal contributions to the epic narrative make him an iconic character.\\nHanuman\\'s story continues to resonate, reminding humanity of the power of faith, devotion, and selfless service.\\nHis exemplary qualities make him a beloved figure, symbolizing the triumph of good over evil.')\n",
        "  elif(name == 'jambavantha'):\n",
        "    print('Name of the character = Jambavantha \\n\\n In the epic Ramayana, Jambavanta, the wise and valorous bear, plays a significant role as a trusted advisor and ally of Lord Rama.\\nHis vast knowledge and experience guide Rama and his army in their search for Sita.\\nJambavanta\\'s strength and wisdom prove invaluable in the battles fought against formidable adversaries.\\nHe provides crucial assistance during the search for the divine Sanjivani herb to revive Lakshmana.\\nJambavanta\\'s unwavering loyalty and selfless dedication to Lord Rama exemplify the essence of friendship and devotion.\\nHis presence adds depth and wisdom to the epic, earning him respect and admiration among the characters.\\nJambavanta\\'s role in the Ramayana highlights the importance of wise counsel and steadfast support in challenging times.\\nHis character embodies bravery, wisdom, and unwavering commitment to the righteous cause.')\n",
        "  elif(name == 'jatayu'):\n",
        "    print('Name of the Character = Jatayu \\n\\n In the epic Ramayana, Jatayu, the noble and valiant vulture, plays a significant role as a guardian and protector.\\nEncountering the demon king Ravana during Sita\\'s abduction, Jatayu courageously engages in battle to defend her.\\nThough wounded and overpowered, Jatayu\\'s unwavering determination and sacrifice demonstrate his loyalty to righteousness.\\nBy informing Lord Rama of the incident, Jatayu becomes a crucial link in the quest to rescue Sita.\\nHis selfless act becomes a symbol of bravery and honor, inspiring all with his unwavering dedication.\\nJatayu\\'s role in the Ramayana showcases the significance of valor and sacrifice in the face of adversity.\\nHis valiant efforts to protect dharma leave an indelible mark on the epic, earning him reverence and admiration.\\nJatayu\\'s story serves as a timeless reminder of the power of selflessness and the pursuit of justice.')\n",
        "  elif(name == 'ravana'):\n",
        "    print('Name of the Character = Ravana \\n\\n In the epic Ramayana, Ravana, the ten-headed demon king, plays a central role as the primary antagonist.\\nHis immense power and knowledge, coupled with his arrogance, lead him to abduct Sita, setting the course of the epic tale.\\nRavana\\'s character represents the epitome of ego, desire, and the consequences of unchecked ambition.\\nDespite his villainous nature, Ravana is depicted as a complex figure with his own virtues and accomplishments.\\nHis profound devotion to Lord Shiva and his mastery over various arts and sciences highlight his multidimensional persona.\\nRavana\\'s ultimate downfall at the hands of Lord Rama serves as a powerful lesson on the consequences of succumbing to one\\'s darker impulses.\\nHis role in the Ramayana signifies the eternal battle between good and evil and the triumph of righteousness over wickedness.\\nRavana\\'s character provides a profound exploration of human flaws and the potential for redemption. ')"
      ],
      "metadata": {
        "id": "20C0vZS4SjGo"
      },
      "execution_count": null,
      "outputs": []
    },
    {
      "cell_type": "code",
      "source": [
        "from PIL import Image"
      ],
      "metadata": {
        "id": "xgBZJMoM5aXu"
      },
      "execution_count": null,
      "outputs": []
    },
    {
      "cell_type": "code",
      "source": [
        "def pre_image(image_path,model):\n",
        "   img = Image.open(image_path)\n",
        "   transform_norm = transforms.Compose([transforms.ToTensor(),\n",
        "   transforms.Resize((32,32)),])\n",
        "   # get normalized image\n",
        "   img_normalized = transform_norm(img).float()\n",
        "   img_normalized = img_normalized.unsqueeze_(0)\n",
        "   # print(img_normalized.shape)\n",
        "   with torch.no_grad():\n",
        "      model.eval()\n",
        "      output =model(img_normalized)\n",
        "     # print(output)\n",
        "      index = output.data.cpu().numpy().argmax()\n",
        "      class_name = classes[index]\n",
        "      return class_name"
      ],
      "metadata": {
        "id": "aQPyWfyJ5cJz"
      },
      "execution_count": null,
      "outputs": []
    },
    {
      "cell_type": "code",
      "source": [
        "pic_dir = '/content/ramsh.jpg'\n",
        "prediction = pre_image(pic_dir,resnet)\n",
        "information(prediction)"
      ],
      "metadata": {
        "colab": {
          "base_uri": "https://localhost:8080/"
        },
        "id": "-7Z0wI-15eCe",
        "outputId": "1c8e48e7-873c-4f71-c7ce-88836de5ea90"
      },
      "execution_count": null,
      "outputs": [
        {
          "output_type": "stream",
          "name": "stdout",
          "text": [
            "Name of the Character = Rama \n",
            "\n",
            "  In the epic Ramayana, Lord Rama plays a pivotal role as the protagonist, embodying righteousness and fulfilling his divine purpose.\n",
            "Born as the prince of Ayodhya, Rama's exile from his kingdom sets in motion a series of events.\n",
            "With unwavering loyalty, Rama embarks on a quest to rescue his beloved wife, Sita, who has been abducted by the demon king Ravana.\n",
            "Supported by his loyal brother Lakshmana and the mighty Hanuman, Rama faces numerous challenges and tests of his character.\n",
            "He displays immense valor during the epic battle with Ravana, ultimately vanquishing the demon king and liberating Sita.\n",
            "Rama's unwavering adherence to his duties and righteousness makes him a revered symbol of virtue and an inspiration for generations.\n",
            "His teachings on dharma, devotion, and the importance of upholding truth continue to guide and inspire people in their lives.\n",
            "The story of Lord Rama in the Ramayana serves as a timeless epic that imparts valuable life lessons and highlights the triumph of good over evil\n"
          ]
        }
      ]
    },
    {
      "cell_type": "code",
      "source": [
        "pic_dir2 = '/content/hanuman test.webp'\n",
        "prediction = pre_image(pic_dir2,resnet)\n",
        "information(prediction)"
      ],
      "metadata": {
        "id": "KNOS9wdv6GhV",
        "outputId": "c9d86625-67b8-4daa-a04e-abd1c4f8c5ae",
        "colab": {
          "base_uri": "https://localhost:8080/"
        }
      },
      "execution_count": null,
      "outputs": [
        {
          "output_type": "stream",
          "name": "stdout",
          "text": [
            "Name of the Character = Hanuman \n",
            "\n",
            " In the epic Ramayana, Hanuman, the revered devotee of Lord Rama, plays a pivotal role as a symbol of unwavering devotion and selflessness.\n",
            "Endowed with extraordinary strength and intelligence, Hanuman becomes an invaluable ally and messenger for Rama.\n",
            "His determination and courage lead him to undertake daring feats, such as leaping across the ocean to find Sita.\n",
            "Hanuman's humility and loyalty shine through his unwavering support, inspiring all with his noble qualities.\n",
            "With his profound wisdom and devotion, Hanuman becomes a source of guidance and inspiration for seekers of truth and righteousness.\n",
            "His steadfast devotion to Rama and his pivotal contributions to the epic narrative make him an iconic character.\n",
            "Hanuman's story continues to resonate, reminding humanity of the power of faith, devotion, and selfless service.\n",
            "His exemplary qualities make him a beloved figure, symbolizing the triumph of good over evil.\n"
          ]
        }
      ]
    },
    {
      "cell_type": "code",
      "source": [
        "pic_dir3 = '/content/sita test.jpeg'\n",
        "prediction = pre_image(pic_dir3,resnet)\n",
        "information(prediction)"
      ],
      "metadata": {
        "colab": {
          "base_uri": "https://localhost:8080/"
        },
        "id": "gtOYfnXWTrHF",
        "outputId": "0d32e0af-4a3b-4170-aa25-b51bf054f301"
      },
      "execution_count": null,
      "outputs": [
        {
          "output_type": "stream",
          "name": "stdout",
          "text": [
            "Name of the Character = Sita \n",
            "\n",
            " In the epic Ramayana, Sita, the wife of Lord Rama, plays a significant role as a symbol of purity, loyalty, and strength.\n",
            "Her unwavering devotion to Rama is evident as she accompanies him into exile and faces hardships with grace.\n",
            "Sita's abduction by Ravana sets in motion the epic quest of Rama to rescue her, showcasing her role as a catalyst for the story's events.\n",
            "Throughout her captivity, Sita demonstrates immense resilience and moral strength, never compromising her values or fidelity to Rama.\n",
            "Her purity is tested, and she emerges unscathed, becoming an embodiment of virtue and righteousness.\n",
            "Upon her rescue, Sita's purity is reaffirmed through the Agni Pariksha , establishing her innocence and honor.\n",
            "Sita's character teaches important lessons about loyalty, devotion, and the strength of a woman, leaving an indelible mark on the Ramayana and Hindu mythology.\n",
            "Her story continues to inspire and empower women, emphasizing the significance of inner strength and unwavering faith.\n"
          ]
        }
      ]
    },
    {
      "cell_type": "code",
      "source": [
        "pic_dir4 = '/content/ravansh.jpeg'\n",
        "prediction = pre_image(pic_dir4,resnet)\n",
        "information(prediction)"
      ],
      "metadata": {
        "colab": {
          "base_uri": "https://localhost:8080/"
        },
        "id": "OSZtJWOhCyTJ",
        "outputId": "ff6d55ba-c99e-4f8c-cfbd-c9af84464669"
      },
      "execution_count": null,
      "outputs": [
        {
          "output_type": "stream",
          "name": "stdout",
          "text": [
            "Name of the Character = Ravana \n",
            "\n",
            " In the epic Ramayana, Ravana, the ten-headed demon king, plays a central role as the primary antagonist.\n",
            "His immense power and knowledge, coupled with his arrogance, lead him to abduct Sita, setting the course of the epic tale.\n",
            "Ravana's character represents the epitome of ego, desire, and the consequences of unchecked ambition.\n",
            "Despite his villainous nature, Ravana is depicted as a complex figure with his own virtues and accomplishments.\n",
            "His profound devotion to Lord Shiva and his mastery over various arts and sciences highlight his multidimensional persona.\n",
            "Ravana's ultimate downfall at the hands of Lord Rama serves as a powerful lesson on the consequences of succumbing to one's darker impulses.\n",
            "His role in the Ramayana signifies the eternal battle between good and evil and the triumph of righteousness over wickedness.\n",
            "Ravana's character provides a profound exploration of human flaws and the potential for redemption. \n"
          ]
        }
      ]
    },
    {
      "cell_type": "code",
      "source": [
        "pic_dir10 = '/content/rama 4.jpeg'\n",
        "prediction = pre_image(pic_dir10,resnet)\n",
        "information(prediction)"
      ],
      "metadata": {
        "colab": {
          "base_uri": "https://localhost:8080/"
        },
        "id": "xf1WNve-XmQY",
        "outputId": "a31cd95c-d5d4-43e0-9ddf-5de6654e4def"
      },
      "execution_count": null,
      "outputs": [
        {
          "output_type": "stream",
          "name": "stdout",
          "text": [
            "Name of the Character = Rama \n",
            "\n",
            "  In the epic Ramayana, Lord Rama plays a pivotal role as the protagonist, embodying righteousness and fulfilling his divine purpose.\n",
            "Born as the prince of Ayodhya, Rama's exile from his kingdom sets in motion a series of events.\n",
            "With unwavering loyalty, Rama embarks on a quest to rescue his beloved wife, Sita, who has been abducted by the demon king Ravana.\n",
            "Supported by his loyal brother Lakshmana and the mighty Hanuman, Rama faces numerous challenges and tests of his character.\n",
            "He displays immense valor during the epic battle with Ravana, ultimately vanquishing the demon king and liberating Sita.\n",
            "Rama's unwavering adherence to his duties and righteousness makes him a revered symbol of virtue and an inspiration for generations.\n",
            "His teachings on dharma, devotion, and the importance of upholding truth continue to guide and inspire people in their lives.\n",
            "The story of Lord Rama in the Ramayana serves as a timeless epic that imparts valuable life lessons and highlights the triumph of good over evil\n"
          ]
        }
      ]
    },
    {
      "cell_type": "code",
      "source": [
        "pic_dir5 = '/content/jatayush.jpeg'\n",
        "prediction = pre_image(pic_dir5,resnet)\n",
        "information(prediction)"
      ],
      "metadata": {
        "colab": {
          "base_uri": "https://localhost:8080/"
        },
        "id": "o8WBKercF_wR",
        "outputId": "98517dc5-d277-461c-ba59-03c16577f8bb"
      },
      "execution_count": null,
      "outputs": [
        {
          "output_type": "stream",
          "name": "stdout",
          "text": [
            "Name of the Character = Jatayu \n",
            "\n",
            " In the epic Ramayana, Jatayu, the noble and valiant vulture, plays a significant role as a guardian and protector.\n",
            "Encountering the demon king Ravana during Sita's abduction, Jatayu courageously engages in battle to defend her.\n",
            "Though wounded and overpowered, Jatayu's unwavering determination and sacrifice demonstrate his loyalty to righteousness.\n",
            "By informing Lord Rama of the incident, Jatayu becomes a crucial link in the quest to rescue Sita.\n",
            "His selfless act becomes a symbol of bravery and honor, inspiring all with his unwavering dedication.\n",
            "Jatayu's role in the Ramayana showcases the significance of valor and sacrifice in the face of adversity.\n",
            "His valiant efforts to protect dharma leave an indelible mark on the epic, earning him reverence and admiration.\n",
            "Jatayu's story serves as a timeless reminder of the power of selflessness and the pursuit of justice.\n"
          ]
        }
      ]
    }
  ]
}